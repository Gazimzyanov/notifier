{
  "nbformat": 4,
  "nbformat_minor": 0,
  "metadata": {
    "colab": {
      "name": "Untitled4.ipynb",
      "provenance": [],
      "collapsed_sections": []
    },
    "kernelspec": {
      "name": "python3",
      "display_name": "Python 3"
    }
  },
  "cells": [
    {
      "cell_type": "markdown",
      "metadata": {
        "id": "6PodnRG91XpX"
      },
      "source": [
        "1. Подключить автоматический сборщик мусора с пороговым значением, равным 6 для первого поколения (для второго и третьего оставить по умолчанию)"
      ]
    },
    {
      "cell_type": "code",
      "metadata": {
        "id": "QEWXCKm61VA1",
        "outputId": "53ef96e0-fcec-4814-d3ce-fd540c726644",
        "colab": {
          "base_uri": "https://localhost:8080/"
        }
      },
      "source": [
        "import gc\n",
        "\n",
        "gc.set_threshold(6)\n",
        "print('Thresholds: ',gc.get_threshold())\n",
        "gc.enable()"
      ],
      "execution_count": 4,
      "outputs": [
        {
          "output_type": "stream",
          "text": [
            "Thresholds:  (6, 10, 10)\n"
          ],
          "name": "stdout"
        }
      ]
    },
    {
      "cell_type": "markdown",
      "metadata": {
        "id": "BdkhgStJ14BD"
      },
      "source": [
        "2. Напишите рекурсивную функцию fib, вычисляющую n-ое число Фибоначчи (так, чтобы внутри был всего один рекурсивный вызов fib). fib внутри себя устанавливает случайный предел рекурсии (от 64 до 1000). Если вычисления не происходят из-за нарушения предела рекурсии, fib возвращает \"не повезло\"."
      ]
    },
    {
      "cell_type": "code",
      "metadata": {
        "id": "Gl51XtlF1mbV",
        "outputId": "f06fe1cd-3106-4686-c6a2-54fe31e31c05",
        "colab": {
          "base_uri": "https://localhost:8080/"
        }
      },
      "source": [
        "import sys\n",
        "import random\n",
        "\n",
        "def fib_num(n):\n",
        "    if n in (1, 2):\n",
        "        return 1\n",
        "    return fib_num(n - 1) + fib_num(n - 2)\n",
        "\n",
        "def sys_task():\n",
        "  random_depth = random.randrange(64,1001)\n",
        "  print(random_depth)\n",
        "  sys.setrecursionlimit(random_depth)\n",
        "  n = int(input())\n",
        "  try:\n",
        "    return fib_num(n)\n",
        "  except Exception:\n",
        "    return 'Не повезло'\n",
        "\n",
        "sys_task()"
      ],
      "execution_count": 14,
      "outputs": [
        {
          "output_type": "stream",
          "text": [
            "738\n",
            "40\n"
          ],
          "name": "stdout"
        },
        {
          "output_type": "execute_result",
          "data": {
            "text/plain": [
              "102334155"
            ]
          },
          "metadata": {
            "tags": []
          },
          "execution_count": 14
        }
      ]
    },
    {
      "cell_type": "markdown",
      "metadata": {
        "id": "kqZqO0zB5DN5"
      },
      "source": [
        "3. Получите имя папки в текущей директории, в которой меньше всего файлов (не вложенных папок!)\n"
      ]
    },
    {
      "cell_type": "code",
      "metadata": {
        "id": "Xzv0El_s3Kkm",
        "outputId": "de6fa18b-4513-467d-d8ef-10a75146cb53",
        "colab": {
          "base_uri": "https://localhost:8080/",
          "height": 52
        }
      },
      "source": [
        "import os \n",
        "\n",
        "\n",
        "def task3():\n",
        "  name_of_min_dir = ''\n",
        "  size_of_min_dir = None\n",
        "  for i in list(os.listdir()):\n",
        "    try:\n",
        "      tmp = go_deeper(i)\n",
        "      if size_of_min_dir is None or tmp < size_of_min_dir:\n",
        "        size_of_min_dir = tmp\n",
        "        name_of_min_dir = i\n",
        "    except Exception:\n",
        "      pass\n",
        "  print(size_of_min_dir)\n",
        "  return name_of_min_dir\n",
        "\n",
        "def go_deeper(path):\n",
        "  total = 0\n",
        "  if len(list(os.listdir(path))) == 0:\n",
        "    return 0\n",
        "  for i in list(os.listdir(path)):\n",
        "    try:\n",
        "      total += go_deeper(path + '\\\\' + i)\n",
        "    except Exception:\n",
        "      total += 1\n",
        "  return total\n",
        "\n",
        "task3()"
      ],
      "execution_count": 36,
      "outputs": [
        {
          "output_type": "stream",
          "text": [
            "6\n"
          ],
          "name": "stdout"
        },
        {
          "output_type": "execute_result",
          "data": {
            "application/vnd.google.colaboratory.intrinsic+json": {
              "type": "string"
            },
            "text/plain": [
              "'sample_data'"
            ]
          },
          "metadata": {
            "tags": []
          },
          "execution_count": 36
        }
      ]
    },
    {
      "cell_type": "markdown",
      "metadata": {
        "id": "Ijhn1E1l8iYn"
      },
      "source": [
        "4. Определите, сколько лет назад был собран Ваш интерпретатор. Выведите \"пора обновиться\", если интерпретатору не 0 лет.\n"
      ]
    },
    {
      "cell_type": "code",
      "metadata": {
        "id": "ddgZOK-Z5Kmv"
      },
      "source": [
        "import platform \n",
        "import datetime\n",
        "print(datetime.datetime.now() - datetime.datetime.strptime('%b  %d %Y %H:%M:%S',platform.python_build()[1]))"
      ],
      "execution_count": null,
      "outputs": []
    }
  ]
}