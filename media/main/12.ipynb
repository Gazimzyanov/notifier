{
  "nbformat": 4,
  "nbformat_minor": 0,
  "metadata": {
    "colab": {
      "name": "Untitled5.ipynb",
      "provenance": []
    },
    "kernelspec": {
      "name": "python3",
      "display_name": "Python 3"
    }
  },
  "cells": [
    {
      "cell_type": "markdown",
      "metadata": {
        "id": "FxRgLEiZA46b"
      },
      "source": [
        "Создайте свой класс и с помощью pickle запишите его в файл под название \"MyClassInFile\""
      ]
    },
    {
      "cell_type": "code",
      "metadata": {
        "id": "Nr-4M_GHASh3"
      },
      "source": [
        "import pickle\n",
        "\n",
        "class MyClassInFile():\n",
        "  pass\n",
        "\n",
        "a = MyClassInFile()\n",
        "with open('data.pickle','wb') as f:\n",
        "  pickle.dump(a,f)"
      ],
      "execution_count": 3,
      "outputs": []
    },
    {
      "cell_type": "markdown",
      "metadata": {
        "id": "uwq4y_hNA72n"
      },
      "source": [
        "С помощью shelve создайте файл \"MyFavoriteMovies\", и запишите в него названия своих любимых фильмов. В качестве ключей используйте имена режисеров\n",
        "\n"
      ]
    },
    {
      "cell_type": "code",
      "metadata": {
        "id": "-wvUYBNsAuVk"
      },
      "source": [
        "import shelve\n",
        "\n",
        "with shelve.open(\"MyFavoriteMovies\") as f:\n",
        "  f['Режиссер 1'] = 'Фильм 1'\n",
        "  f['Режиссер 2'] = 'Фильм 2'\n",
        "  f['Режиссер 3'] = 'Фильм 3'"
      ],
      "execution_count": 6,
      "outputs": []
    },
    {
      "cell_type": "markdown",
      "metadata": {
        "id": "3ftNe2NeCNd_"
      },
      "source": [
        "Создайте таблицу employees и заполните ее данными, как на картинке. Повысьте зарплату на 1000 долларов всем работикам младше 30 лет и удалите из таблицы работников старше 40"
      ]
    },
    {
      "cell_type": "code",
      "metadata": {
        "id": "AErZ85kZBnLu",
        "outputId": "66d6839d-2f65-417e-a5d1-eee57d42da81",
        "colab": {
          "base_uri": "https://localhost:8080/"
        }
      },
      "source": [
        "import sqlite3\n",
        "\n",
        "conn = sqlite3.connect(\"mydatabase2.db\")\n",
        "\n",
        "conn.row_factory = sqlite3.Row\n",
        "\n",
        "cursor = conn.cursor()\n",
        "\n",
        "try:\n",
        "  cursor.execute(\"DROP TABLE employees\")\n",
        "except Exception:\n",
        "  pass\n",
        "\n",
        "cursor.execute(\"CREATE TABLE employees (name TEXT, salary INTEGER, age INTEGER)\")\n",
        "\n",
        "people = [('John Doe', '5000', '35'),\n",
        "          ('Marie Page', '6000', '25'),\n",
        "          ('Megan Flores', '3000', '29'),\n",
        "          ('Harmony Simmons', '4000', '42')]\n",
        "\n",
        "cursor.executemany(\"INSERT INTO employees VALUES (?,?,?)\", people)\n",
        "conn.commit()\n",
        "\n",
        "rows = list(cursor.execute(\"SELECT * FROM employees\"))\n",
        "for row in rows:\n",
        "  for data in row:\n",
        "    print(data,end=' ')\n",
        "  print('\\n')\n",
        "print('\\n')\n",
        "cursor.execute(\"DELETE FROM employees WHERE age > 40\")\n",
        "cursor.execute(\"UPDATE employees SET salary = salary + 1000 WHERE  age < 30\")\n",
        "\n",
        "rows = list(cursor.execute(\"SELECT * FROM employees\"))\n",
        "for row in rows:\n",
        "  for data in row:\n",
        "    print(data,end=' ')\n",
        "  print('\\n')\n"
      ],
      "execution_count": 20,
      "outputs": [
        {
          "output_type": "stream",
          "text": [
            "John Doe 5000 35 \n",
            "\n",
            "Marie Page 6000 25 \n",
            "\n",
            "Megan Flores 3000 29 \n",
            "\n",
            "Harmony Simmons 4000 42 \n",
            "\n",
            "\n",
            "\n",
            "John Doe 5000 35 \n",
            "\n",
            "Marie Page 7000 25 \n",
            "\n",
            "Megan Flores 4000 29 \n",
            "\n"
          ],
          "name": "stdout"
        }
      ]
    },
    {
      "cell_type": "code",
      "metadata": {
        "id": "J4ucjBKDCkTj"
      },
      "source": [
        ""
      ],
      "execution_count": null,
      "outputs": []
    }
  ]
}